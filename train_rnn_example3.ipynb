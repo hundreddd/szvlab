{
 "cells": [
  {
   "cell_type": "markdown",
   "id": "15e8d705",
   "metadata": {},
   "source": [
    "下面的实验通过设定baseline，比较RNN模型是否在预测效果上更有优势。"
   ]
  },
  {
   "cell_type": "code",
   "execution_count": 1,
   "id": "bf39060b",
   "metadata": {},
   "outputs": [],
   "source": [
    "import os\n",
    "import random\n",
    "import numpy as np\n",
    "import pandas as pd\n",
    "import tensorflow as tf\n",
    "from pprint import pprint\n",
    "from pylab import plt, mpl"
   ]
  },
  {
   "cell_type": "markdown",
   "id": "cb45deb1",
   "metadata": {},
   "source": [
    "先模拟一个时间序列的数据集，由两个sin函数加上一些白噪音构成，这里的时间序列是单变量时间序列，即：univariate time series。"
   ]
  },
  {
   "cell_type": "code",
   "execution_count": 23,
   "id": "d8506c9e",
   "metadata": {},
   "outputs": [],
   "source": [
    "def generate_time_series(batch_size, n_steps):\n",
    "    freq1, freq2, offsets1, offsets2 = np.random.rand(4, batch_size, 1)\n",
    "    time = np.linspace(0, 1, n_steps)\n",
    "    series = 0.5 * np.sin((time - offsets1) * (freq1 * 10 + 10)) # wave 1\n",
    "    series += 0.2 * np.sin((time - offsets2) * (freq2 * 20 + 20)) # + wave 2\n",
    "    series += 0.1 * (np.random.rand(batch_size, n_steps) - 0.5) # + noise\n",
    "    return series[..., np.newaxis].astype(np.float32)"
   ]
  },
  {
   "cell_type": "markdown",
   "id": "0cac330a",
   "metadata": {},
   "source": [
    "这里自动生成10000条时间序列数据，比如，10000个不同个股的收盘价，然后用前50个收盘价，预测第51个。"
   ]
  },
  {
   "cell_type": "code",
   "execution_count": 88,
   "id": "53b6e99f",
   "metadata": {},
   "outputs": [],
   "source": [
    "n_steps = 50\n",
    "series = generate_time_series(10000, n_steps + 1)\n",
    "X_train, y_train = series[:7000, :n_steps], series[:7000, -1]\n",
    "X_valid, y_valid = series[7000:9000, :n_steps], series[7000:9000, -1]\n",
    "X_test, y_test = series[9000:, :n_steps], series[9000:, -1]"
   ]
  },
  {
   "cell_type": "code",
   "execution_count": 91,
   "id": "fc2d8e8c",
   "metadata": {},
   "outputs": [
    {
     "data": {
      "text/plain": [
       "(7000, 50, 1)"
      ]
     },
     "execution_count": 91,
     "metadata": {},
     "output_type": "execute_result"
    }
   ],
   "source": [
    "X_train.shape"
   ]
  },
  {
   "cell_type": "code",
   "execution_count": 92,
   "id": "77847672",
   "metadata": {},
   "outputs": [
    {
     "data": {
      "text/plain": [
       "(7000, 1)"
      ]
     },
     "execution_count": 92,
     "metadata": {},
     "output_type": "execute_result"
    }
   ],
   "source": [
    "y_train.shape"
   ]
  },
  {
   "cell_type": "code",
   "execution_count": 69,
   "id": "497fc384",
   "metadata": {},
   "outputs": [],
   "source": [
    "from keras.models import Sequential\n",
    "from keras.layers import SimpleRNN, LSTM, Dense, Flatten\n",
    "from tensorflow import keras"
   ]
  },
  {
   "cell_type": "code",
   "execution_count": 70,
   "id": "8d96ceef",
   "metadata": {},
   "outputs": [],
   "source": [
    "y_pred = X_test[:, -1]"
   ]
  },
  {
   "cell_type": "code",
   "execution_count": 71,
   "id": "ae5a2075",
   "metadata": {},
   "outputs": [
    {
     "data": {
      "text/plain": [
       "0.019893022"
      ]
     },
     "execution_count": 71,
     "metadata": {},
     "output_type": "execute_result"
    }
   ],
   "source": [
    "np.mean(keras.losses.mean_squared_error(y_test, y_pred))"
   ]
  },
  {
   "cell_type": "code",
   "execution_count": 72,
   "id": "22e6de50",
   "metadata": {},
   "outputs": [],
   "source": [
    "model = Sequential()\n",
    "model.add(Flatten(input_shape=[n_steps, 1]))\n",
    "model.add(Dense(1))\n",
    "model.compile(optimizer='adam', loss='mse', metrics=['mae'])"
   ]
  },
  {
   "cell_type": "code",
   "execution_count": 73,
   "id": "30803a3a",
   "metadata": {},
   "outputs": [
    {
     "name": "stdout",
     "output_type": "stream",
     "text": [
      "Model: \"sequential_11\"\n",
      "_________________________________________________________________\n",
      " Layer (type)                Output Shape              Param #   \n",
      "=================================================================\n",
      " flatten_7 (Flatten)         (None, 50)                0         \n",
      "                                                                 \n",
      " dense_7 (Dense)             (None, 1)                 51        \n",
      "                                                                 \n",
      "=================================================================\n",
      "Total params: 51\n",
      "Trainable params: 51\n",
      "Non-trainable params: 0\n",
      "_________________________________________________________________\n"
     ]
    }
   ],
   "source": [
    "model.summary()"
   ]
  },
  {
   "cell_type": "code",
   "execution_count": 74,
   "id": "c5ce9842",
   "metadata": {},
   "outputs": [
    {
     "name": "stdout",
     "output_type": "stream",
     "text": [
      "Epoch 1/20\n",
      "219/219 [==============================] - 0s 1ms/step - loss: 0.1685 - mae: 0.3262 - val_loss: 0.0624 - val_mae: 0.2048\n",
      "Epoch 2/20\n",
      "219/219 [==============================] - 0s 948us/step - loss: 0.0414 - mae: 0.1638 - val_loss: 0.0266 - val_mae: 0.1333\n",
      "Epoch 3/20\n",
      "219/219 [==============================] - 0s 1ms/step - loss: 0.0206 - mae: 0.1163 - val_loss: 0.0165 - val_mae: 0.1047\n",
      "Epoch 4/20\n",
      "219/219 [==============================] - 0s 973us/step - loss: 0.0141 - mae: 0.0968 - val_loss: 0.0127 - val_mae: 0.0918\n",
      "Epoch 5/20\n",
      "219/219 [==============================] - 0s 1ms/step - loss: 0.0115 - mae: 0.0873 - val_loss: 0.0109 - val_mae: 0.0847\n",
      "Epoch 6/20\n",
      "219/219 [==============================] - 0s 1ms/step - loss: 0.0101 - mae: 0.0815 - val_loss: 0.0098 - val_mae: 0.0800\n",
      "Epoch 7/20\n",
      "219/219 [==============================] - 0s 1ms/step - loss: 0.0091 - mae: 0.0775 - val_loss: 0.0089 - val_mae: 0.0761\n",
      "Epoch 8/20\n",
      "219/219 [==============================] - 0s 1ms/step - loss: 0.0084 - mae: 0.0741 - val_loss: 0.0083 - val_mae: 0.0734\n",
      "Epoch 9/20\n",
      "219/219 [==============================] - 0s 1ms/step - loss: 0.0077 - mae: 0.0710 - val_loss: 0.0077 - val_mae: 0.0706\n",
      "Epoch 10/20\n",
      "219/219 [==============================] - 0s 1ms/step - loss: 0.0072 - mae: 0.0683 - val_loss: 0.0071 - val_mae: 0.0679\n",
      "Epoch 11/20\n",
      "219/219 [==============================] - 0s 992us/step - loss: 0.0067 - mae: 0.0658 - val_loss: 0.0066 - val_mae: 0.0655\n",
      "Epoch 12/20\n",
      "219/219 [==============================] - 0s 1ms/step - loss: 0.0062 - mae: 0.0635 - val_loss: 0.0062 - val_mae: 0.0633\n",
      "Epoch 13/20\n",
      "219/219 [==============================] - 0s 956us/step - loss: 0.0059 - mae: 0.0617 - val_loss: 0.0059 - val_mae: 0.0616\n",
      "Epoch 14/20\n",
      "219/219 [==============================] - 0s 951us/step - loss: 0.0056 - mae: 0.0601 - val_loss: 0.0056 - val_mae: 0.0603\n",
      "Epoch 15/20\n",
      "219/219 [==============================] - 0s 985us/step - loss: 0.0053 - mae: 0.0585 - val_loss: 0.0054 - val_mae: 0.0591\n",
      "Epoch 16/20\n",
      "219/219 [==============================] - 0s 965us/step - loss: 0.0051 - mae: 0.0574 - val_loss: 0.0052 - val_mae: 0.0580\n",
      "Epoch 17/20\n",
      "219/219 [==============================] - 0s 954us/step - loss: 0.0049 - mae: 0.0561 - val_loss: 0.0051 - val_mae: 0.0574\n",
      "Epoch 18/20\n",
      "219/219 [==============================] - 0s 960us/step - loss: 0.0047 - mae: 0.0550 - val_loss: 0.0048 - val_mae: 0.0558\n",
      "Epoch 19/20\n",
      "219/219 [==============================] - 0s 951us/step - loss: 0.0046 - mae: 0.0543 - val_loss: 0.0046 - val_mae: 0.0546\n",
      "Epoch 20/20\n",
      "219/219 [==============================] - 0s 999us/step - loss: 0.0045 - mae: 0.0534 - val_loss: 0.0045 - val_mae: 0.0542\n",
      "CPU times: total: 5.53 s\n",
      "Wall time: 4.87 s\n"
     ]
    },
    {
     "data": {
      "text/plain": [
       "<keras.callbacks.History at 0x1a845110d60>"
      ]
     },
     "execution_count": 74,
     "metadata": {},
     "output_type": "execute_result"
    }
   ],
   "source": [
    "%%time\n",
    "model.fit(X_train, y_train, epochs=20, validation_data=(X_valid, y_valid))"
   ]
  },
  {
   "cell_type": "code",
   "execution_count": 75,
   "id": "e119f36b",
   "metadata": {},
   "outputs": [
    {
     "data": {
      "text/plain": [
       "0.0045246994"
      ]
     },
     "execution_count": 75,
     "metadata": {},
     "output_type": "execute_result"
    }
   ],
   "source": [
    "y_proba = model.predict(X_test)\n",
    "np.mean(keras.losses.mean_squared_error(y_test, y_proba))"
   ]
  },
  {
   "cell_type": "code",
   "execution_count": 76,
   "id": "1b2c5c72",
   "metadata": {},
   "outputs": [],
   "source": [
    "model = Sequential()\n",
    "model.add(SimpleRNN(1, input_shape=[None, 1]))\n",
    "model.compile(optimizer='adam', loss='mse', metrics=['mae'])"
   ]
  },
  {
   "cell_type": "code",
   "execution_count": 77,
   "id": "a830b641",
   "metadata": {},
   "outputs": [
    {
     "name": "stdout",
     "output_type": "stream",
     "text": [
      "Model: \"sequential_12\"\n",
      "_________________________________________________________________\n",
      " Layer (type)                Output Shape              Param #   \n",
      "=================================================================\n",
      " simple_rnn_1 (SimpleRNN)    (None, 1)                 3         \n",
      "                                                                 \n",
      "=================================================================\n",
      "Total params: 3\n",
      "Trainable params: 3\n",
      "Non-trainable params: 0\n",
      "_________________________________________________________________\n"
     ]
    }
   ],
   "source": [
    "model.summary()"
   ]
  },
  {
   "cell_type": "code",
   "execution_count": 87,
   "id": "54e632ab",
   "metadata": {},
   "outputs": [
    {
     "name": "stdout",
     "output_type": "stream",
     "text": [
      "CPU times: total: 1min 54s\n",
      "Wall time: 39.7 s\n"
     ]
    },
    {
     "data": {
      "text/plain": [
       "<keras.callbacks.History at 0x1a841440820>"
      ]
     },
     "execution_count": 87,
     "metadata": {},
     "output_type": "execute_result"
    }
   ],
   "source": [
    "%%time\n",
    "model.fit(X_train, y_train, epochs=20, validation_data=(X_valid, y_valid), verbose=False)"
   ]
  },
  {
   "cell_type": "code",
   "execution_count": 80,
   "id": "b2c7f3a7",
   "metadata": {},
   "outputs": [
    {
     "data": {
      "text/plain": [
       "0.13873701"
      ]
     },
     "execution_count": 80,
     "metadata": {},
     "output_type": "execute_result"
    }
   ],
   "source": [
    "y_proba = model.predict(X_test)\n",
    "np.mean(keras.losses.mean_squared_error(y_test, y_proba))"
   ]
  },
  {
   "cell_type": "code",
   "execution_count": 81,
   "id": "ed5aa9ad",
   "metadata": {},
   "outputs": [],
   "source": [
    "model = Sequential()\n",
    "model.add(SimpleRNN(20, return_sequences=True, input_shape=[None, 1]))\n",
    "model.add(SimpleRNN(20))\n",
    "model.add(Dense(1))\n",
    "model.compile(optimizer='adam', loss='mse', metrics=['mae'])"
   ]
  },
  {
   "cell_type": "code",
   "execution_count": 82,
   "id": "12d5b5b9",
   "metadata": {},
   "outputs": [
    {
     "name": "stdout",
     "output_type": "stream",
     "text": [
      "Model: \"sequential_13\"\n",
      "_________________________________________________________________\n",
      " Layer (type)                Output Shape              Param #   \n",
      "=================================================================\n",
      " simple_rnn_2 (SimpleRNN)    (None, None, 20)          440       \n",
      "                                                                 \n",
      " simple_rnn_3 (SimpleRNN)    (None, 20)                820       \n",
      "                                                                 \n",
      " dense_8 (Dense)             (None, 1)                 21        \n",
      "                                                                 \n",
      "=================================================================\n",
      "Total params: 1,281\n",
      "Trainable params: 1,281\n",
      "Non-trainable params: 0\n",
      "_________________________________________________________________\n"
     ]
    }
   ],
   "source": [
    "model.summary()"
   ]
  },
  {
   "cell_type": "code",
   "execution_count": 83,
   "id": "bbe20665",
   "metadata": {},
   "outputs": [
    {
     "name": "stdout",
     "output_type": "stream",
     "text": [
      "Epoch 1/20\n",
      "219/219 [==============================] - 3s 10ms/step - loss: 0.0252 - mae: 0.1042 - val_loss: 0.0051 - val_mae: 0.0575\n",
      "Epoch 2/20\n",
      "219/219 [==============================] - 2s 9ms/step - loss: 0.0042 - mae: 0.0522 - val_loss: 0.0038 - val_mae: 0.0500\n",
      "Epoch 3/20\n",
      "219/219 [==============================] - 2s 9ms/step - loss: 0.0037 - mae: 0.0487 - val_loss: 0.0036 - val_mae: 0.0487\n",
      "Epoch 4/20\n",
      "219/219 [==============================] - 2s 10ms/step - loss: 0.0035 - mae: 0.0476 - val_loss: 0.0035 - val_mae: 0.0481\n",
      "Epoch 5/20\n",
      "219/219 [==============================] - 2s 9ms/step - loss: 0.0034 - mae: 0.0471 - val_loss: 0.0034 - val_mae: 0.0471\n",
      "Epoch 6/20\n",
      "219/219 [==============================] - 2s 9ms/step - loss: 0.0034 - mae: 0.0468 - val_loss: 0.0036 - val_mae: 0.0482\n",
      "Epoch 7/20\n",
      "219/219 [==============================] - 2s 9ms/step - loss: 0.0034 - mae: 0.0468 - val_loss: 0.0033 - val_mae: 0.0468\n",
      "Epoch 8/20\n",
      "219/219 [==============================] - 2s 9ms/step - loss: 0.0033 - mae: 0.0463 - val_loss: 0.0038 - val_mae: 0.0493\n",
      "Epoch 9/20\n",
      "219/219 [==============================] - 2s 10ms/step - loss: 0.0033 - mae: 0.0459 - val_loss: 0.0032 - val_mae: 0.0459\n",
      "Epoch 10/20\n",
      "219/219 [==============================] - 2s 10ms/step - loss: 0.0032 - mae: 0.0456 - val_loss: 0.0033 - val_mae: 0.0459\n",
      "Epoch 11/20\n",
      "219/219 [==============================] - 2s 10ms/step - loss: 0.0031 - mae: 0.0449 - val_loss: 0.0035 - val_mae: 0.0478\n",
      "Epoch 12/20\n",
      "219/219 [==============================] - 2s 10ms/step - loss: 0.0031 - mae: 0.0450 - val_loss: 0.0032 - val_mae: 0.0450\n",
      "Epoch 13/20\n",
      "219/219 [==============================] - 2s 10ms/step - loss: 0.0031 - mae: 0.0448 - val_loss: 0.0029 - val_mae: 0.0440\n",
      "Epoch 14/20\n",
      "219/219 [==============================] - 2s 9ms/step - loss: 0.0030 - mae: 0.0446 - val_loss: 0.0031 - val_mae: 0.0448\n",
      "Epoch 15/20\n",
      "219/219 [==============================] - 2s 9ms/step - loss: 0.0030 - mae: 0.0442 - val_loss: 0.0030 - val_mae: 0.0441\n",
      "Epoch 16/20\n",
      "219/219 [==============================] - 2s 10ms/step - loss: 0.0030 - mae: 0.0443 - val_loss: 0.0031 - val_mae: 0.0448\n",
      "Epoch 17/20\n",
      "219/219 [==============================] - 2s 9ms/step - loss: 0.0031 - mae: 0.0448 - val_loss: 0.0034 - val_mae: 0.0467\n",
      "Epoch 18/20\n",
      "219/219 [==============================] - 2s 10ms/step - loss: 0.0029 - mae: 0.0439 - val_loss: 0.0028 - val_mae: 0.0429\n",
      "Epoch 19/20\n",
      "219/219 [==============================] - 2s 10ms/step - loss: 0.0030 - mae: 0.0441 - val_loss: 0.0029 - val_mae: 0.0436\n",
      "Epoch 20/20\n",
      "219/219 [==============================] - 2s 10ms/step - loss: 0.0029 - mae: 0.0433 - val_loss: 0.0029 - val_mae: 0.0434\n",
      "CPU times: total: 1min 56s\n",
      "Wall time: 43.7 s\n"
     ]
    },
    {
     "data": {
      "text/plain": [
       "<keras.callbacks.History at 0x1a8439ee7d0>"
      ]
     },
     "execution_count": 83,
     "metadata": {},
     "output_type": "execute_result"
    }
   ],
   "source": [
    "%%time\n",
    "model.fit(X_train, y_train, epochs=20, validation_data=(X_valid, y_valid), verbose=False)"
   ]
  },
  {
   "cell_type": "code",
   "execution_count": 84,
   "id": "23ddb8a7",
   "metadata": {},
   "outputs": [
    {
     "data": {
      "text/plain": [
       "0.0029436378"
      ]
     },
     "execution_count": 84,
     "metadata": {},
     "output_type": "execute_result"
    }
   ],
   "source": [
    "y_proba = model.predict(X_test)\n",
    "np.mean(keras.losses.mean_squared_error(y_test, y_proba))"
   ]
  },
  {
   "cell_type": "code",
   "execution_count": 85,
   "id": "0845b26a",
   "metadata": {},
   "outputs": [
    {
     "data": {
      "text/plain": [
       "array([[-0.32046625],\n",
       "       [ 0.3868596 ],\n",
       "       [-0.14881645],\n",
       "       [ 0.67875576],\n",
       "       [ 0.6101456 ]], dtype=float32)"
      ]
     },
     "execution_count": 85,
     "metadata": {},
     "output_type": "execute_result"
    }
   ],
   "source": [
    "y_test[:5]"
   ]
  },
  {
   "cell_type": "code",
   "execution_count": 86,
   "id": "c3004242",
   "metadata": {},
   "outputs": [
    {
     "data": {
      "text/plain": [
       "array([[-0.2712187 ],\n",
       "       [ 0.34430358],\n",
       "       [-0.22171049],\n",
       "       [ 0.60271615],\n",
       "       [ 0.5830468 ]], dtype=float32)"
      ]
     },
     "execution_count": 86,
     "metadata": {},
     "output_type": "execute_result"
    }
   ],
   "source": [
    "y_proba[:5]"
   ]
  },
  {
   "cell_type": "code",
   "execution_count": null,
   "id": "50825079",
   "metadata": {},
   "outputs": [],
   "source": []
  }
 ],
 "metadata": {
  "kernelspec": {
   "display_name": "Python 3 (ipykernel)",
   "language": "python",
   "name": "python3"
  },
  "language_info": {
   "codemirror_mode": {
    "name": "ipython",
    "version": 3
   },
   "file_extension": ".py",
   "mimetype": "text/x-python",
   "name": "python",
   "nbconvert_exporter": "python",
   "pygments_lexer": "ipython3",
   "version": "3.10.2"
  }
 },
 "nbformat": 4,
 "nbformat_minor": 5
}
